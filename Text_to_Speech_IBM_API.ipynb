{
  "nbformat": 4,
  "nbformat_minor": 0,
  "metadata": {
    "colab": {
      "provenance": []
    },
    "kernelspec": {
      "name": "python3",
      "display_name": "Python 3"
    },
    "language_info": {
      "name": "python"
    }
  },
  "cells": [
    {
      "cell_type": "code",
      "execution_count": 9,
      "metadata": {
        "id": "ClesZljys-ey"
      },
      "outputs": [],
      "source": [
        "# !pip install ibm_watson"
      ]
    },
    {
      "cell_type": "code",
      "source": [
        "# https://cloud.ibm.com/apidocs/text-to-speech?code=python\n",
        "# Used this url to learn on how to use this API i my program"
      ],
      "metadata": {
        "id": "Yk3STvyMv8rn"
      },
      "execution_count": 10,
      "outputs": []
    },
    {
      "cell_type": "code",
      "source": [],
      "metadata": {
        "id": "mNjSS-XNv-lV"
      },
      "execution_count": null,
      "outputs": []
    },
    {
      "cell_type": "code",
      "source": [
        "#from ibm_watson import TextToSpeechV1\n",
        "from ibm_cloud_sdk_core.authenticators import IAMAuthenticator"
      ],
      "metadata": {
        "id": "19TQHMDTtELM"
      },
      "execution_count": 2,
      "outputs": []
    },
    {
      "cell_type": "code",
      "source": [
        "apikey = 'XjYx1S9LbG81AziOQoB3-qrkpS3YAtBe6DKIDlqJHcKG'\n",
        "url = 'https://api.au-syd.text-to-speech.watson.cloud.ibm.com/instances/a53af2cc-8404-43a9-8eb7-0fc0df99c38c'"
      ],
      "metadata": {
        "id": "QwNAEWi9tG9w"
      },
      "execution_count": 3,
      "outputs": []
    },
    {
      "cell_type": "code",
      "source": [
        "authenticator = IAMAuthenticator(apikey)\n",
        "tts = TextToSpeechV1(authenticator=authenticator)\n",
        "tts.set_service_url(url)"
      ],
      "metadata": {
        "id": "nglEV9Lft_BL"
      },
      "execution_count": 4,
      "outputs": []
    },
    {
      "cell_type": "code",
      "source": [
        "text='''let's get ready to be inspired Bruce Lee\n",
        "\n",
        "\"Don't fear failure. Not failure, but low aim, is the crime. In great attempts it is glorious even to fail.\" - This quote has taught me to embrace failure as a learning experience and not be afraid to aim high. Remember, the only true failure is not trying at all.\n",
        "\n",
        "\"The successful warrior is the average man, with laser-like focus.\" - This quote has taught me the importance of focus and dedication. To achieve our goals, we need to have a clear vision and laser-like focus to stay on track.\n",
        "\n",
        "\"I fear not the man who has practiced 10,000 kicks once, but I fear the man who has practiced one kick 10,000 times.\" - This quote has taught me the importance of practice and persistence. It's not about how much you do, but how well you do it. '''"
      ],
      "metadata": {
        "id": "3GazG84QuTwN"
      },
      "execution_count": 6,
      "outputs": []
    },
    {
      "cell_type": "code",
      "source": [
        "with open('./speech.mp3', 'wb') as audio_file:\n",
        "    res = tts.synthesize(text, accept='audio/mp3', voice='en-US_AllisonV3Voice').get_result()\n",
        "    audio_file.write(res.content)"
      ],
      "metadata": {
        "id": "qY9oBEoguBZ6"
      },
      "execution_count": 7,
      "outputs": []
    },
    {
      "cell_type": "code",
      "source": [],
      "metadata": {
        "id": "oVYWpNSAuDC8"
      },
      "execution_count": null,
      "outputs": []
    }
  ]
}